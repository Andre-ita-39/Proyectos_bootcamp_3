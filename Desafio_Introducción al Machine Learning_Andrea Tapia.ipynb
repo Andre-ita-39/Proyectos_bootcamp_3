{
 "cells": [
  {
   "cell_type": "markdown",
   "id": "e6bf14ac",
   "metadata": {},
   "source": [
    "# <span style=\"color:blue\">Desafío - Introducción al Machine Learning</span>\n",
    "\n",
    "## <span style=\"color:orange\">Parte I</span>\n",
    "\n",
    "### Responde las siguientes preguntas:\n",
    "\n",
    "1. **¿Cuál es la diferencia entre el aprendizaje supervisado y el aprendizaje no supervisado?**\n",
    "\n",
    "     - **<span style=\"color:purple\">Respuesta:</span>**\n",
    "         \n",
    "         La diferencia entre el aprendizaje supervisado y el aprendizaje no supervisado radica en el uso de etiquetas o valores conocidos en los datos. Explico en detalle a continuación:\n",
    "         \n",
    "        - **<span style=\"color:olive\">Aprendizaje Supervisado</span>**: Se utiliza cuando los datos de entrada vienen acompañados de una etiqueta o valor objetivo conocido que nos induca el resultado correcto. El modelo aprende de estos datos ya etiquetados para predecir la salida correcta en nuevos datos. Existen dos tipos: \n",
    "            \n",
    "            - **Clasificación:** Consiste en asignar etiquetas a categorías discretas. Un ejemplo es la clasificación de imágenes médicas para un diagnóstico de cáncer, donde calsificamos el exámen como positivo o negativo, aquí el modelo aprende a identificar patrones en los datos que indican si una persona probablemente está enferma o no.\n",
    "            \n",
    "            - **Regresión:** Consiste en predecir valores continuos. Un ejemplo sería un sistema para predecir el valor de mercado de un auto usado, donde el modelo toma en cuenta datos como el año del auto, kilometraje y modelo, y da un valor estimado en un tipo de moneda por ejmplo doláres. Aquí, el modelo aprende a predecir el precio en función de características específicas.\n",
    "\n",
    "        - **<span style=\"color:olive\">Aprendizaje Supervisado</span>**: En este tipo de aprendizaje no se entregan etiquetas al modelo. En lugar de aprender a predecir una etiqueta, el modelo busca patrones o estructuras ocultas dentro de los datos. Tiene dos categorías:\n",
    "           \n",
    "            - **Clausterin o segmentación:** En el cual se usan algoritmos para agrupar los datos en base a sus similitudes. Un ejemplo sería agrupar clientes según su comportamiento de compra, por ejemplo “compradores frecuentes”, “compradores de temporada” o “compradores de descuentos”, sin necesidad de usar etiquetas previas.\n",
    "            \n",
    "            - **Reducción de dimensionalidad:** En esta categría se usan técnicas para reducir la cantidad de características en el conjunto de datos. Un ejemplo podría ser un análisis de imágenes médicas con miles de características o píxeles. Un modelo de reducción de dimensionalidad puede resumir esas características en unas pocas variables, capturando los aspectos más importantes de las imágenes. Esto facilita el análisis y visualización de los datos, permitiendo a los médicos detectar patrones que podrían indicar anomalías, sin necesidad de etiquetar cada imagen.\n",
    "    \n",
    "       \n",
    "2. **En la industria de la salud, a menudo se utiliza el machine learning para predecir la probabilidad de enfermedades o condiciones médicas en función de diferentes variables de entrada, como síntomas, antecedentes médicos y factores de estilo de vida. Imagina que tienes un conjunto de datos que contiene información de pacientes y su diagnóstico (enfermo/no enfermo). ¿Qué tipo de aprendizaje utilizarías para construir un modelo predictivo?**\n",
    "\n",
    "    - **<span style=\"color:purple\">Respuesta:</span>**\n",
    "    \n",
    "        - **<span style=\"color:olive\">Tipo de aprendizaje:</span>** Aprendizaje supervisado, porque tenemos etiquetas (diagnóstico: enfermo/no enfermo).\n",
    "        \n",
    "        - **<span style=\"color:olive\">Tipo de modelo:</span>** Clasificación, porque queremos predecir una categoría (enfermo o no enfermo) en lugar de un valor numérico.\n",
    "        \n",
    "        - **Explicación:** El aprendizaje supervisado es adecuado porque tenemos un conjunto de datos con información de pacientes que incluye si están diagnosticados como \"enfermos\" o \"no enfermos\", esto significa que ya tenemos una etiqueta y el resultado es conocido con lo cual el modelo puede aprender de esta información para hacer predicciones en nuevos pacientes. Además en este caso, un modelo de clasificación es lo más adecuado, ya que queremos predecir una categoría específica (enfermo o no enfermo) y no un valor numérico.\n",
    "\n",
    "    \n",
    "3. **¿Por qué razón es necesario dividir el set de datos en 2 set de datos al momento de realizar algún modelamiento supervisado? ¿Cuáles son los 2 set de datos y cúal es la función de cada uno?**\n",
    "\n",
    "    - **<span style=\"color:purple\">Respuesta:</span>**\n",
    "    \n",
    "        Cuando estamos entrenando un modelo en aprendizaje supervisado, es necesario dividir el conjunto de datos en dos conjuntos principales para asegurar que el modelo pueda hacer predicciones confiables en datos nuevos y no solo en los datos con los que fue entrenado. Esta división es muy importante para evaluar correctamente el rendimiento del modelo.\n",
    "    \n",
    "        - **<span style=\"color:olive\">Conjunto de entrenamiento:</span>** Para que el modelo aprenda y ajuste sus parámetros. Este es el conjunto de datos que usamos para entrenar el modelo . Acá el modelo aprende de las características y las etiquetas, que son los resultados conocidos, para identificar patrones y relaciones entre los datos.\n",
    "        \n",
    "        - **<span style=\"color:olive\">Conjunto de prueba:</span>** Para evaluar qué tan bien el modelo generaliza a datos nuevos. Este conjunto de datos se usa para evaluar el modelo después de que ha sido entrenado. El modelo hace predicciones en este conjunto, y como ya conocemos los resultados verdaderos por las etiquetas, podemos comparar sus predicciones con los resultados reales. Así, podemos ver qué tan bien funciona el modelo en datos que no ha visto antes.\n",
    "\n",
    "        Esta separación es importante porque sin ella no podríamos saber si el modelo realmente entiende los patrones o si simplemente está memorizando los datos específicos del entrenamiento.\n",
    "     \n",
    "    \n",
    "4. **¿Cuál es la principal diferencia en el modelamiento de la regresión lineal para un enfoque estadístico y un enfoque de aprendizaje de máquinas?**\n",
    "\n",
    "    - **<span style=\"color:purple\">Respuesta:</span>**\n",
    "    \n",
    "        La principal diferencia en el modelamiento de la regresión lineal entre un enfoque estadístico y uno de aprendizaje de máquinas radica en el objetivo y la forma en que se utiliza el modelo.\n",
    "    \n",
    "        - **<span style=\"color:olive\">Enfoque estadístico:</span>** Busca explicar relaciones entre variables, se enfoca en la interpretación de los coeficientes. Acá el objetivo es entender y explicar la relación entre las variables independientes -> predictoras y la variable dependiente -> resultado. Este enfoque se centra en interpretar los coeficientes de la regresión, que indican cuánto cambia la variable dependiente cuando una variable independiente cambia, manteniendo las demás constantes. \n",
    "\n",
    "            - **Ejemplo**: Si queremos estudiar el efecto del ejercicio en la presión arterial. En un enfoque estadístico nos interesa entender cuánto disminuye o aumenta la presión arterial por cada hora adicional de ejercicio semanal, buscando no solo predecir sino también explicar la relación entre ellas.\n",
    "        \n",
    "        - **<span style=\"color:olive\">Enfoquer de Aprendizaje de máquinas:</span>** Busca hacer predicciones precisas en nuevos datos, se enfoca en mejorar el rendimiento del modelo, no en la interpretación detallada. El objetivo es hacer predicciones precisas en nuevos datos, no interpretar o explicar las relaciones. Se enfoca en optimizar el rendimiento predictivo del modelo, utilizando técnicas de validación para mejorar la precisión. La interpretación de los coeficientes no es el foco principal, lo importante es que el modelo haga predicciones confiables.\n",
    "\n",
    "            - **Ejemplo**: Si necesitamos predecir el precio de las casas en una ciudad. Debemos construir un modelo de regresión lineal para obtener el precio estimado de una casa, sin preocuparnos tanto por la interpretación detallada de cada factor, sino por la precisión de las predicciones.\n",
    "\n",
    "\n",
    "5. **Escoge una industria de acuerdo a su área de interés, rubro de trabajo o área de estudios (por ejemplo, salud, telecomunicaciones, retail, medioambiente, etc). Menciona al menos 1 aplicación en esa industria de:**\n",
    "\n",
    "    **<span style=\"color:teal\">Para la realización de este ejercicio escogí el área de la salud, donde podemos ver su aplicación especialmente en imágenes médicas, para mejorar el diagnóstico, pronóstico y manejo de los pacientes.</span>**\n",
    "\n",
    "    - **<span style=\"color:olive\">Aprendizaje Supervisado (Clasificación):</span>** Se usa para diagnosticar enfermedades a partir de imágenes médicas, como radiografías o resonancias. Un modelo de clasificación puede analizar imágenes para clasificar si un paciente tiene o no una enfermedad, como por ejemplo cáncer de pulmón, cancer mamario o alguna lesión en tejidos. El modelo se entrena con imágenes etiquetadas previamente para identificar patrones asociados a diagnósticos específicos.\n",
    "\n",
    "    - **<span style=\"color:olive\">Aprendizaje Supervisado (Regresión):</span>** La regresión se utiliza para predecir el progreso de una enfermedad . Por ejemplo, en pacientes con enfermedades crónicas como la diabetes, un modelo de regresión puede predecir el nivel de glucosa o la progresión del daño en órganos a lo largo del tiempo. Esto permite a los médicos ajustar los tratamientos basándose en las predicciones del modelo.\n",
    "\n",
    "    - **<span style=\"color:olive\">Aprendizaje No Supervisado (Clustering):</span>** El clustering puede ayudar a segmentar a los pacientes en grupos de riesgo según sus características clínicas. Por ejemplo, a partir de síntomas, antecedentes familiares y estilo de vida, los pacientes pueden agruparse en niveles de riesgo de padecer enfermedades como las cardíacas, permitiendo que los médicos enfoquen recursos y seguimiento en los grupos más vulnerables.\n",
    "\n",
    "    - **<span style=\"color:olive\">Aprendizaje No Supervisado (Reducción de dimensionalidad):</span>** En el análisis de imágenes médicas la reducción de dimensionalidad es útil para procesar y analizar grandes volúmenes de datos . Las imágenes de alta resolución contienen mucha información y reducir la dimensionalidad permite enfocarse en las características clave sin perder información relevante. Esto facilita el análisis rápido y preciso de anomalías en estudios de resonancia o tomografía, mejorando la detección temprana de condiciones médicas."
   ]
  },
  {
   "cell_type": "markdown",
   "id": "12a75613",
   "metadata": {},
   "source": [
    "## <span style=\"color:orange\">Parte II</span>\n",
    "\n",
    "### <span style=\"color:blue\">6.- Importamos librerías y cargamos los datos </span>"
   ]
  },
  {
   "cell_type": "code",
   "execution_count": 76,
   "id": "ff628f3d",
   "metadata": {},
   "outputs": [
    {
     "data": {
      "text/html": [
       "<div>\n",
       "<style scoped>\n",
       "    .dataframe tbody tr th:only-of-type {\n",
       "        vertical-align: middle;\n",
       "    }\n",
       "\n",
       "    .dataframe tbody tr th {\n",
       "        vertical-align: top;\n",
       "    }\n",
       "\n",
       "    .dataframe thead th {\n",
       "        text-align: right;\n",
       "    }\n",
       "</style>\n",
       "<table border=\"1\" class=\"dataframe\">\n",
       "  <thead>\n",
       "    <tr style=\"text-align: right;\">\n",
       "      <th></th>\n",
       "      <th>price</th>\n",
       "      <th>area</th>\n",
       "      <th>bedrooms</th>\n",
       "      <th>bathrooms</th>\n",
       "      <th>stories</th>\n",
       "      <th>guestroom</th>\n",
       "      <th>hotwaterheating</th>\n",
       "      <th>airconditioning</th>\n",
       "      <th>parking</th>\n",
       "    </tr>\n",
       "  </thead>\n",
       "  <tbody>\n",
       "    <tr>\n",
       "      <th>0</th>\n",
       "      <td>13300000</td>\n",
       "      <td>7420</td>\n",
       "      <td>4</td>\n",
       "      <td>2</td>\n",
       "      <td>3</td>\n",
       "      <td>no</td>\n",
       "      <td>no</td>\n",
       "      <td>yes</td>\n",
       "      <td>2</td>\n",
       "    </tr>\n",
       "    <tr>\n",
       "      <th>1</th>\n",
       "      <td>12250000</td>\n",
       "      <td>8960</td>\n",
       "      <td>4</td>\n",
       "      <td>4</td>\n",
       "      <td>4</td>\n",
       "      <td>no</td>\n",
       "      <td>no</td>\n",
       "      <td>yes</td>\n",
       "      <td>3</td>\n",
       "    </tr>\n",
       "    <tr>\n",
       "      <th>2</th>\n",
       "      <td>12250000</td>\n",
       "      <td>9960</td>\n",
       "      <td>3</td>\n",
       "      <td>2</td>\n",
       "      <td>2</td>\n",
       "      <td>no</td>\n",
       "      <td>no</td>\n",
       "      <td>no</td>\n",
       "      <td>2</td>\n",
       "    </tr>\n",
       "    <tr>\n",
       "      <th>3</th>\n",
       "      <td>12215000</td>\n",
       "      <td>7500</td>\n",
       "      <td>4</td>\n",
       "      <td>2</td>\n",
       "      <td>2</td>\n",
       "      <td>no</td>\n",
       "      <td>no</td>\n",
       "      <td>yes</td>\n",
       "      <td>3</td>\n",
       "    </tr>\n",
       "    <tr>\n",
       "      <th>4</th>\n",
       "      <td>11410000</td>\n",
       "      <td>7420</td>\n",
       "      <td>4</td>\n",
       "      <td>1</td>\n",
       "      <td>2</td>\n",
       "      <td>yes</td>\n",
       "      <td>no</td>\n",
       "      <td>yes</td>\n",
       "      <td>2</td>\n",
       "    </tr>\n",
       "  </tbody>\n",
       "</table>\n",
       "</div>"
      ],
      "text/plain": [
       "      price  area  bedrooms  bathrooms  stories guestroom hotwaterheating  \\\n",
       "0  13300000  7420         4          2        3        no              no   \n",
       "1  12250000  8960         4          4        4        no              no   \n",
       "2  12250000  9960         3          2        2        no              no   \n",
       "3  12215000  7500         4          2        2        no              no   \n",
       "4  11410000  7420         4          1        2       yes              no   \n",
       "\n",
       "  airconditioning  parking  \n",
       "0             yes        2  \n",
       "1             yes        3  \n",
       "2              no        2  \n",
       "3             yes        3  \n",
       "4             yes        2  "
      ]
     },
     "execution_count": 76,
     "metadata": {},
     "output_type": "execute_result"
    }
   ],
   "source": [
    "import pandas as pd\n",
    "import numpy as np\n",
    "from sklearn.model_selection import train_test_split\n",
    "from sklearn.linear_model import LinearRegression\n",
    "from sklearn.metrics import mean_squared_error, r2_score\n",
    "import matplotlib.pyplot as plt\n",
    "import seaborn as sns\n",
    "\n",
    "# Cargar datos\n",
    "data = pd.read_excel(\"/Users/andrea/Desktop/DATA SCIENCE/Modulo 5-ML/Introducción al ML/Desafío/data-housing.xlsx\")\n",
    "\n",
    "data.head()\n"
   ]
  },
  {
   "cell_type": "markdown",
   "id": "45e0b7a3",
   "metadata": {},
   "source": [
    "### <span style=\"color:blue\">7.- Generar un informe de calidad de datos</span>\n",
    "\n",
    "**Para el análisis de calidad de datos, verificaremos:**\n",
    "\n",
    "- Resumen de los datos\n",
    "- La existencia de valores nulos.\n",
    "- La presencia de datos atípicos (outliers).\n",
    "- Las correlaciones entre variables."
   ]
  },
  {
   "cell_type": "code",
   "execution_count": 77,
   "id": "753586ba",
   "metadata": {},
   "outputs": [
    {
     "name": "stdout",
     "output_type": "stream",
     "text": [
      "<class 'pandas.core.frame.DataFrame'>\n",
      "RangeIndex: 545 entries, 0 to 544\n",
      "Data columns (total 9 columns):\n",
      " #   Column           Non-Null Count  Dtype \n",
      "---  ------           --------------  ----- \n",
      " 0   price            545 non-null    int64 \n",
      " 1   area             545 non-null    int64 \n",
      " 2   bedrooms         545 non-null    int64 \n",
      " 3   bathrooms        545 non-null    int64 \n",
      " 4   stories          545 non-null    int64 \n",
      " 5   guestroom        545 non-null    object\n",
      " 6   hotwaterheating  545 non-null    object\n",
      " 7   airconditioning  545 non-null    object\n",
      " 8   parking          545 non-null    int64 \n",
      "dtypes: int64(6), object(3)\n",
      "memory usage: 38.4+ KB\n"
     ]
    },
    {
     "data": {
      "text/html": [
       "<div>\n",
       "<style scoped>\n",
       "    .dataframe tbody tr th:only-of-type {\n",
       "        vertical-align: middle;\n",
       "    }\n",
       "\n",
       "    .dataframe tbody tr th {\n",
       "        vertical-align: top;\n",
       "    }\n",
       "\n",
       "    .dataframe thead th {\n",
       "        text-align: right;\n",
       "    }\n",
       "</style>\n",
       "<table border=\"1\" class=\"dataframe\">\n",
       "  <thead>\n",
       "    <tr style=\"text-align: right;\">\n",
       "      <th></th>\n",
       "      <th>price</th>\n",
       "      <th>area</th>\n",
       "      <th>bedrooms</th>\n",
       "      <th>bathrooms</th>\n",
       "      <th>stories</th>\n",
       "      <th>parking</th>\n",
       "    </tr>\n",
       "  </thead>\n",
       "  <tbody>\n",
       "    <tr>\n",
       "      <th>count</th>\n",
       "      <td>5.450000e+02</td>\n",
       "      <td>545.000000</td>\n",
       "      <td>545.000000</td>\n",
       "      <td>545.000000</td>\n",
       "      <td>545.000000</td>\n",
       "      <td>545.000000</td>\n",
       "    </tr>\n",
       "    <tr>\n",
       "      <th>mean</th>\n",
       "      <td>4.766729e+06</td>\n",
       "      <td>5150.541284</td>\n",
       "      <td>2.965138</td>\n",
       "      <td>1.286239</td>\n",
       "      <td>1.805505</td>\n",
       "      <td>0.693578</td>\n",
       "    </tr>\n",
       "    <tr>\n",
       "      <th>std</th>\n",
       "      <td>1.870440e+06</td>\n",
       "      <td>2170.141023</td>\n",
       "      <td>0.738064</td>\n",
       "      <td>0.502470</td>\n",
       "      <td>0.867492</td>\n",
       "      <td>0.861586</td>\n",
       "    </tr>\n",
       "    <tr>\n",
       "      <th>min</th>\n",
       "      <td>1.750000e+06</td>\n",
       "      <td>1650.000000</td>\n",
       "      <td>1.000000</td>\n",
       "      <td>1.000000</td>\n",
       "      <td>1.000000</td>\n",
       "      <td>0.000000</td>\n",
       "    </tr>\n",
       "    <tr>\n",
       "      <th>25%</th>\n",
       "      <td>3.430000e+06</td>\n",
       "      <td>3600.000000</td>\n",
       "      <td>2.000000</td>\n",
       "      <td>1.000000</td>\n",
       "      <td>1.000000</td>\n",
       "      <td>0.000000</td>\n",
       "    </tr>\n",
       "    <tr>\n",
       "      <th>50%</th>\n",
       "      <td>4.340000e+06</td>\n",
       "      <td>4600.000000</td>\n",
       "      <td>3.000000</td>\n",
       "      <td>1.000000</td>\n",
       "      <td>2.000000</td>\n",
       "      <td>0.000000</td>\n",
       "    </tr>\n",
       "    <tr>\n",
       "      <th>75%</th>\n",
       "      <td>5.740000e+06</td>\n",
       "      <td>6360.000000</td>\n",
       "      <td>3.000000</td>\n",
       "      <td>2.000000</td>\n",
       "      <td>2.000000</td>\n",
       "      <td>1.000000</td>\n",
       "    </tr>\n",
       "    <tr>\n",
       "      <th>max</th>\n",
       "      <td>1.330000e+07</td>\n",
       "      <td>16200.000000</td>\n",
       "      <td>6.000000</td>\n",
       "      <td>4.000000</td>\n",
       "      <td>4.000000</td>\n",
       "      <td>3.000000</td>\n",
       "    </tr>\n",
       "  </tbody>\n",
       "</table>\n",
       "</div>"
      ],
      "text/plain": [
       "              price          area    bedrooms   bathrooms     stories  \\\n",
       "count  5.450000e+02    545.000000  545.000000  545.000000  545.000000   \n",
       "mean   4.766729e+06   5150.541284    2.965138    1.286239    1.805505   \n",
       "std    1.870440e+06   2170.141023    0.738064    0.502470    0.867492   \n",
       "min    1.750000e+06   1650.000000    1.000000    1.000000    1.000000   \n",
       "25%    3.430000e+06   3600.000000    2.000000    1.000000    1.000000   \n",
       "50%    4.340000e+06   4600.000000    3.000000    1.000000    2.000000   \n",
       "75%    5.740000e+06   6360.000000    3.000000    2.000000    2.000000   \n",
       "max    1.330000e+07  16200.000000    6.000000    4.000000    4.000000   \n",
       "\n",
       "          parking  \n",
       "count  545.000000  \n",
       "mean     0.693578  \n",
       "std      0.861586  \n",
       "min      0.000000  \n",
       "25%      0.000000  \n",
       "50%      0.000000  \n",
       "75%      1.000000  \n",
       "max      3.000000  "
      ]
     },
     "execution_count": 77,
     "metadata": {},
     "output_type": "execute_result"
    }
   ],
   "source": [
    "# Resumen de los datos\n",
    "data.info()\n",
    "data.describe()"
   ]
  },
  {
   "cell_type": "code",
   "execution_count": 78,
   "id": "69d56947",
   "metadata": {},
   "outputs": [
    {
     "name": "stdout",
     "output_type": "stream",
     "text": [
      "Valores nulos en cada columna:\n",
      "\n",
      "price              0\n",
      "area               0\n",
      "bedrooms           0\n",
      "bathrooms          0\n",
      "stories            0\n",
      "guestroom          0\n",
      "hotwaterheating    0\n",
      "airconditioning    0\n",
      "parking            0\n",
      "dtype: int64\n"
     ]
    }
   ],
   "source": [
    "# Verificar si existen valores nulos en el DataFrame\n",
    "print(\"Valores nulos en cada columna:\\n\")\n",
    "print(data.isnull().sum())"
   ]
  },
  {
   "cell_type": "markdown",
   "id": "655a1d4b",
   "metadata": {},
   "source": [
    "**Para identificar datos atípicos (outliers) usamos el método del rango intercuartílico (IQR). Aquí detectaremos los valores atípicos en las columnas numéricas:**"
   ]
  },
  {
   "cell_type": "code",
   "execution_count": 79,
   "id": "c0ca4b14",
   "metadata": {},
   "outputs": [
    {
     "name": "stdout",
     "output_type": "stream",
     "text": [
      "Número de outliers en cada columna numérica:\n",
      "\n",
      "{'price': 15, 'area': 12, 'bedrooms': 12, 'bathrooms': 1, 'stories': 41, 'parking': 12}\n"
     ]
    }
   ],
   "source": [
    "# Identificar columnas numéricas\n",
    "numerical_columns = data.select_dtypes(include=[np.number]).columns\n",
    "\n",
    "# Detectar outliers usando el IQR\n",
    "outliers = {}\n",
    "for column in numerical_columns:\n",
    "    Q1 = data[column].quantile(0.25)\n",
    "    Q3 = data[column].quantile(0.75)\n",
    "    IQR = Q3 - Q1\n",
    "    outliers[column] = data[(data[column] < (Q1 - 1.5 * IQR)) | (data[column] > (Q3 + 1.5 * IQR))].shape[0]\n",
    "\n",
    "print(\"Número de outliers en cada columna numérica:\\n\")\n",
    "print(outliers)\n"
   ]
  },
  {
   "cell_type": "markdown",
   "id": "688378eb",
   "metadata": {},
   "source": [
    "**Verificamos las correlaciones entre variables**, para ello usaremos la función **corr()** de la librería pandas, que calculará las correlaciones entre todas las variables numéricas. Para visualizarlas mejor usaremos una matriz de calor."
   ]
  },
  {
   "cell_type": "code",
   "execution_count": 80,
   "id": "10691eed",
   "metadata": {},
   "outputs": [
    {
     "data": {
      "image/png": "[encoded data removed]",
      "text/plain": [
       "<Figure size 1000x800 with 2 Axes>"
      ]
     },
     "metadata": {},
     "output_type": "display_data"
    }
   ],
   "source": [
    "# Seleccionar solo las columnas numéricas\n",
    "numerical_data = data.select_dtypes(include=[np.number])\n",
    "\n",
    "# Calcular la matriz de correlación para las columnas numéricas\n",
    "correlation_matrix = numerical_data.corr()\n",
    "\n",
    "# Graficar la matriz de correlación\n",
    "plt.figure(figsize=(10, 8))\n",
    "sns.heatmap(correlation_matrix, annot=True, cmap='seismic', linewidths=0.5)\n",
    "plt.title(\"Matriz de correlación\")\n",
    "plt.show()\n"
   ]
  },
  {
   "cell_type": "markdown",
   "id": "d90015e9",
   "metadata": {},
   "source": [
    "**<span style=\"color:purple\">Análisis de las correlaciones:</span>**\n",
    "\n",
    "Se puede decir que **area** y **bathrooms** parecen ser las variables más influyentes en el precio de la propiedad. La relación positiva entre estas variables indica que un incremento en el área o la cantidad de baños puede contribuir significativamente al precio.\n",
    "\n",
    "Variables como **stories** y **parking** también influyen, pero en menor medida. "
   ]
  },
  {
   "cell_type": "markdown",
   "id": "f1a29d5d",
   "metadata": {},
   "source": [
    "### <span style=\"color:blue\">8.- Generar un modelo de regresión lienal</span>\n",
    "\n",
    "1. Importa el estimador de regresión lineal de Scikit-learn. - Se realiza en el punto 6\n",
    "2. Dividir los datos (80% entrenamiento y 20% prueba)\n",
    "3. Crea una instancia del modelo de regresión lineal\n",
    "4. Ajusta el modelo utilizando los datos de entrenamiento.\n",
    "\n",
    "**<span style=\"color:purple\">Explicación del código:</span>**\n",
    "\n",
    "- **pd.get_dummies(data, drop_first=True):** Convierte variables categóricas (guestroom, hotwaterheating, y airconditioning) en variables numéricas.\n",
    "\n",
    "- **X**: Contiene todas las características de las propiedades, excepto *price*.\n",
    "\n",
    "- **y**: Contiene solo la columna *price*, que es la variable objetivo.\n",
    "\n",
    "- **train_test_split**: Divide los datos en entrenamiento y prueba (80% y 20% respectivamente).\n",
    "\n",
    "- **model.fit(X_train, y_train)**: Ajusta el modelo de regresión lineal con los datos de entrenamiento.\n",
    "\n",
    "- **model.coef_**: Los valores que muestra son los coeficientes del modelo de regresión lineal, y cada uno de ellos representa el impacto de cada variable predictora en la variable objetivo. Estos coeficientes indican cuánto cambiará el precio si una de las características aumenta en una unidad, asumiendo que todas las demás variables se mantienen constantes. Los coeficientes permiten ver la importancia de cada variable en el modelo. Coeficientes más altos indican que una característica tiene un mayor impacto en el precio. Si el coeficiente es positivo, indica una relación directa (aumento de la variable implica aumento en el precio). Si el coeficiente fuese negativo indicaría una relación inversa (aumento de la variable implica disminución en el precio).\n",
    "\n",
    "**<span style=\"color:teal\">Este código entrena un modelo de regresión lineal que prediga el precio de la vivienda en función de las demás características.</span>**"
   ]
  },
  {
   "cell_type": "code",
   "execution_count": 81,
   "id": "9fb8e29d",
   "metadata": {},
   "outputs": [
    {
     "name": "stdout",
     "output_type": "stream",
     "text": [
      "Coeficientes del modelo: [2.67674095e+02 1.23387337e+05 1.09893645e+06 3.59272293e+05\n",
      " 2.82934838e+05 5.81768639e+05 6.63421096e+05 8.81775436e+05]\n"
     ]
    }
   ],
   "source": [
    "# Convertir variables categóricas en variables dummies\n",
    "# Esto transformará automáticamente todas las variables categóricas en variables numéricas\n",
    "data = pd.get_dummies(data, drop_first=True)\n",
    "\n",
    "# Dividir los datos en variables predictoras (X) y variable objetivo (y)\n",
    "X = data.drop(columns=['price'])  # 'price' es la variable que queremos predecir\n",
    "y = data['price']  # 'price' es nuestra variable objetivo\n",
    "\n",
    "# Dividir los datos en conjuntos de entrenamiento y prueba (80% entrenamiento, 20% prueba)\n",
    "X_train, X_test, y_train, y_test = train_test_split(X, y, test_size=0.2, random_state=42)\n",
    "\n",
    "# Crear una instancia del modelo de regresión lineal\n",
    "model = LinearRegression()\n",
    "\n",
    "# Ajustar el modelo utilizando los datos de entrenamiento\n",
    "model.fit(X_train, y_train)\n",
    "\n",
    "\n",
    "# Mostrar los coeficientes del modelo\n",
    "print(\"Coeficientes del modelo:\", model.coef_)\n"
   ]
  },
  {
   "cell_type": "code",
   "execution_count": 82,
   "id": "e4d8e5f9",
   "metadata": {},
   "outputs": [
    {
     "name": "stdout",
     "output_type": "stream",
     "text": [
      "Variable: area  -  Coeficiente: 267.67409\n",
      "\n",
      "Variable: bedrooms  -  Coeficiente: 123387.33710\n",
      "\n",
      "Variable: bathrooms  -  Coeficiente: 1098936.45206\n",
      "\n",
      "Variable: stories  -  Coeficiente: 359272.29344\n",
      "\n",
      "Variable: parking  -  Coeficiente: 282934.83799\n",
      "\n",
      "Variable: guestroom_yes  -  Coeficiente: 581768.63891\n",
      "\n",
      "Variable: hotwaterheating_yes  -  Coeficiente: 663421.09630\n",
      "\n",
      "Variable: airconditioning_yes  -  Coeficiente: 881775.43625\n",
      "\n"
     ]
    }
   ],
   "source": [
    "# Iterar sobre las columnas de X y los coeficientes del modelo\n",
    "# Con esto mostramos cada variable con su correspondiente coeficiente \n",
    "for feature, coef in zip(X.columns, model.coef_):\n",
    "    print(f\"Variable: {feature}  -  Coeficiente: {coef:.5f}\\n\")"
   ]
  },
  {
   "cell_type": "markdown",
   "id": "278a6c08",
   "metadata": {},
   "source": [
    "### <span style=\"color:blue\">9.- Evaluación del modelo</span>\n",
    "\n",
    "1. Para evaluar el modelo de regresión lineal, usaremos dos métricas: el **Error Cuadrado Medio (MSE)** y el **Coeficiente de Determinación (R²)**.\n",
    "\n",
    "\n",
    "2. **Paso a paso:**\n",
    "\n",
    "    - **Evaluación con los datos de entrenamiento:** Calcularemos las métricas de evaluación en el conjunto de entrenamiento.\n",
    "    \n",
    "    - **Graficar los coeficientes del modelo:** Esto ayudará a interpretar la importancia de cada variable predictora.\n",
    "    \n",
    "    - **Evaluación con los datos de prueba:** Realizaremos predicciones en el conjunto de prueba y evaluaremos el rendimiento.\n",
    "    \n",
    "\n",
    "3. **Explicación del código - Evaluación con los datos de entrenamiento**\n",
    "\n",
    "    - **Predicciones en el conjunto de entrenamiento (y_train_pred):** Utilizamos *model.predict(X_train)* para realizar predicciones en el conjunto de entrenamiento.\n",
    "    \n",
    "    - **Calcular MSE y R² en el conjunto de entrenamiento:**\n",
    "      \n",
    "        - **mean_squared_error(y_train, y_train_pred)**: Calcula el MSE, que mide la precisión de las predicciones. Un valor más bajo indica un error menor.\n",
    "        \n",
    "        - **r2_score(y_train, y_train_pred)**: Calcula el coeficiente de determinación (R²) que indica el porcentaje de variación en la variable objetivo explicado por el modelo. Un valor más cercano a 1 indica un mejor ajuste.\n",
    "\n"
   ]
  },
  {
   "cell_type": "code",
   "execution_count": 83,
   "id": "03904f77",
   "metadata": {},
   "outputs": [
    {
     "name": "stdout",
     "output_type": "stream",
     "text": [
      "Métricas en el conjunto de entrenamiento:\n",
      "\n",
      "Error Cuadrado Medio (MSE): 1142290980321.328\n",
      "\n",
      "Coeficiente de Determinación (R^2): 0.6295343438678265\n"
     ]
    }
   ],
   "source": [
    "# Evaluar el modelo con los datos de entrenamiento\n",
    "# Realizar predicciones en el conjunto de prueba\n",
    "y_test_pred = model.predict(X_test)\n",
    "\n",
    "# Calcular métricas de evaluación en el conjunto de prueba\n",
    "mse_test = mean_squared_error(y_test, y_test_pred)\n",
    "r2_test = r2_score(y_test, y_test_pred)\n",
    "\n",
    "print(\"Métricas en el conjunto de entrenamiento:\\n\")\n",
    "print(\"Error Cuadrado Medio (MSE):\", mse_train)\n",
    "print(\"\\nCoeficiente de Determinación (R^2):\", r2_train)"
   ]
  },
  {
   "cell_type": "markdown",
   "id": "753db64f",
   "metadata": {},
   "source": [
    "3. **Explicación del código - Gráfico**\n",
    "\n",
    "    - **plt.scatter(y_test, y_test_pred, alpha=0.7):** Crea un gráfico de dispersión de los valores reales (y_test) frente a los valores predichos (y_test_pred). El parámetro alpha ajusta la transparencia para que los puntos superpuestos sean más visibles.\n",
    "\n",
    "    - **plt.plot([y_test.min(), y_test.max()], [y_test.min(), y_test.max()], 'r--', linewidth=2):** Dibuja una línea diagonal en rojo ( 'r--') que representa el lugar donde los valores predichos serán iguales a los valores reales. Si el modelo predijera perfectamente, todos los puntos estarían sobre esta línea.\n",
    "    \n",
    "    - **plt.text(...):** Agrega un cuadro de texto en la gráfica con las métricas MSE y R², lo cual permite interpretar rápidamente el rendimiento del modelo.\n",
    "\n",
    "    - **<span style=\"color:olive\">Interpretación del gráfico:</span>** Los puntos cercanos a la línea roja indican que el modelo predijo correctamente.Si los puntos se distribuyen lejos de la línea roja, eso indica errores en las predicciones. La dispersión de los puntos alrededor de la línea puede entregar una idea de si el modelo tiende a sobreestimar o subestimar ciertos valores.\n"
   ]
  },
  {
   "cell_type": "code",
   "execution_count": 84,
   "id": "f48a8b14",
   "metadata": {},
   "outputs": [
    {
     "data": {
      "image/png": "[encoded data removed]",
      "text/plain": [
       "<Figure size 800x600 with 1 Axes>"
      ]
     },
     "metadata": {},
     "output_type": "display_data"
    }
   ],
   "source": [
    "# Graficar los valores reales vs los valores predichos en el conjunto de prueba\n",
    "plt.figure(figsize=(8, 6))\n",
    "plt.scatter(y_test, y_test_pred, color='teal', alpha=0.7)\n",
    "plt.plot([y_test.min(), y_test.max()], [y_test.min(), y_test.max()], 'r--', linewidth=2)\n",
    "plt.xlabel(\"Valores Reales\")\n",
    "plt.ylabel(\"Valores Predichos\")\n",
    "plt.title(\"Valores Reales vs. Valores Predichos (Conjunto de Prueba)\")\n",
    "plt.text(y_test.min(), y_test.max(), f'MSE: {mse_test:.2f}\\nR^2: {r2_test:.2f}', \n",
    "         fontsize=12, verticalalignment='top', bbox=dict(facecolor='white', alpha=0.5))\n",
    "plt.show()"
   ]
  },
  {
   "cell_type": "markdown",
   "id": "df1a65d6",
   "metadata": {},
   "source": [
    "3. **Explocación del código - Evaluación con los datos de prueba**\n",
    "\n",
    "\n",
    "- **Predicciones en el conjunto de prueba ( y_test_pred):** Realizamos predicciones en el conjunto de prueba para evaluar la capacidad de generalización del modelo.\n",
    "\n",
    "- **Calcular MSE y R² en el conjunto de prueba:** Evaluamos el rendimiento del modelo en el conjunto de prueba usando las mismas métricas, lo que permite comparar el ajuste en los datos de entrenamiento frente a los datos nuevos.\n",
    "\n",
    "- **Interpretación de resultados**\n",
    "    \n",
    "    - **MSE:** Un MSE bajo en los datos de prueba indica que el modelo está haciendo predicciones precisas.\n",
    "\n",
    "    - **R²:** Un valor de R² cercano a 1 en los datos de prueba indica que el modelo explica bien la variación de los datos, lo cual sugiere que es un buen modelo. \n",
    "    \n",
    "**Nota:** Comparar R² en el conjunto de entrenamiento y el de prueba ayudará a detectar posibles problemas de sobreajuste (overfitting) o subajuste (underfitting)."
   ]
  },
  {
   "cell_type": "code",
   "execution_count": 85,
   "id": "29837960",
   "metadata": {},
   "outputs": [
    {
     "name": "stdout",
     "output_type": "stream",
     "text": [
      "Métricas en el conjunto de prueba:\n",
      "\n",
      "Error Cuadrado Medio (MSE): 1961490677565.4873\n",
      "\n",
      "Coeficiente de Determinación (R^2): 0.6119372009958435\n"
     ]
    }
   ],
   "source": [
    "# Evaluar el modelo con los datos de prueba\n",
    "y_test_pred = model.predict(X_test)  # Predicciones en el conjunto de prueba\n",
    "mse_test = mean_squared_error(y_test, y_test_pred)\n",
    "r2_test = r2_score(y_test, y_test_pred)\n",
    "\n",
    "print(\"Métricas en el conjunto de prueba:\\n\")\n",
    "print(\"Error Cuadrado Medio (MSE):\", mse_test)\n",
    "print(\"\\nCoeficiente de Determinación (R^2):\", r2_test)"
   ]
  }
 ],
 "metadata": {
  "kernelspec": {
   "display_name": "Python 3 (ipykernel)",
   "language": "python",
   "name": "python3"
  },
  "language_info": {
   "codemirror_mode": {
    "name": "ipython",
    "version": 3
   },
   "file_extension": ".py",
   "mimetype": "text/x-python",
   "name": "python",
   "nbconvert_exporter": "python",
   "pygments_lexer": "ipython3",
   "version": "3.9.13"
  }
 },
 "nbformat": 4,
 "nbformat_minor": 5
}
